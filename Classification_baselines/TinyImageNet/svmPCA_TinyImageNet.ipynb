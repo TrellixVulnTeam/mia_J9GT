{
 "cells": [
  {
   "cell_type": "markdown",
   "metadata": {},
   "source": [
    "# Imports"
   ]
  },
  {
   "cell_type": "code",
   "execution_count": 1,
   "metadata": {},
   "outputs": [],
   "source": [
    "import sys \n",
    "\n",
    "import numpy as np \n",
    "import matplotlib.pyplot as plt\n",
    "\n",
    "from sklearn import svm\n",
    "from sklearn.decomposition import PCA\n",
    "from sklearn.pipeline import make_pipeline\n",
    "from sklearn.preprocessing import MinMaxScaler\n",
    "from sklearn.externals import joblib\n",
    "\n",
    "import torch\n",
    "import torchvision \n",
    "import torchvision.transforms as transforms\n",
    "\n",
    "import pickle\n",
    "import pandas as pd\n",
    "import os\n",
    "\n",
    "sys.path.append('../../Utils')\n",
    "\n",
    "from SVC_Utils import *\n",
    "from data_downloaders import *"
   ]
  },
  {
   "cell_type": "markdown",
   "metadata": {},
   "source": [
    "# Load/Process TinyImageNet"
   ]
  },
  {
   "cell_type": "code",
   "execution_count": 16,
   "metadata": {},
   "outputs": [
    {
     "name": "stdout",
     "output_type": "stream",
     "text": [
      "Tiny ImageNet already downloaded.\n"
     ]
    }
   ],
   "source": [
    "get_tiny_imagenet('../../Datasets/')\n",
    "\n",
    "train_dir = \"../../Datasets/tiny-imagenet-200/train\"\n",
    "test_dir = \"../../Datasets/tiny-imagenet-200/val\"\n",
    "\n",
    "# load training set \n",
    "trainset = torchvision.datasets.ImageFolder(train_dir, transform=transforms.ToTensor())\n",
    "trainloader = torch.utils.data.DataLoader(trainset, batch_size=int(trainset.__len__()/2), shuffle=True, num_workers=2)\n",
    "ftrainloader = torch.utils.data.DataLoader(trainset, batch_size=trainset.__len__(), shuffle=True, num_workers=2)\n",
    "\n",
    "# load test set \n",
    "testset = torchvision.datasets.ImageFolder(test_dir, transform=transforms.ToTensor())\n",
    "testloader = torch.utils.data.DataLoader(testset, batch_size=testset.__len__(), shuffle=False, num_workers=2)"
   ]
  },
  {
   "cell_type": "code",
   "execution_count": 17,
   "metadata": {},
   "outputs": [],
   "source": [
    "traininputs, traintargets=load(trainloader)\n",
    "testinputs, testtargets=load(testloader)\n",
    "ftraininputs, ftraintargets=load(ftrainloader)"
   ]
  },
  {
   "cell_type": "markdown",
   "metadata": {},
   "source": [
    "# Model Training"
   ]
  },
  {
   "cell_type": "code",
   "execution_count": 4,
   "metadata": {},
   "outputs": [],
   "source": [
    "n_components=180\n",
    "C_range=np.logspace(0,1,2)\n",
    "gamma_range=np.logspace(-2,-1,2)"
   ]
  },
  {
   "cell_type": "code",
   "execution_count": 5,
   "metadata": {},
   "outputs": [],
   "source": [
    "clfs=hp_grid(n_components=n_components, C_range=C_range, gamma_range=gamma_range)"
   ]
  },
  {
   "cell_type": "code",
   "execution_count": 6,
   "metadata": {},
   "outputs": [
    {
     "name": "stdout",
     "output_type": "stream",
     "text": [
      "Fitted:  1 / 4\n",
      "Fitted:  2 / 4\n",
      "Fitted:  3 / 4\n",
      "Fitted:  4 / 4\n"
     ]
    }
   ],
   "source": [
    "fitted_clfs=train_grid(clfs, traininputs, traintargets)"
   ]
  },
  {
   "cell_type": "markdown",
   "metadata": {},
   "source": [
    "# Model Testing/Evaluation"
   ]
  },
  {
   "cell_type": "code",
   "execution_count": 18,
   "metadata": {},
   "outputs": [
    {
     "name": "stdout",
     "output_type": "stream",
     "text": [
      "Testing Accuracy:  0.6\n",
      "Testing Accuracy:  1.02\n",
      "Testing Accuracy:  0.88\n",
      "Testing Accuracy:  0.9199999999999999\n"
     ]
    }
   ],
   "source": [
    "#Stores training and testing accuracies in matrices (Rows: C_range, Cols: gamma_range)\n",
    "\n",
    "#train_accs=np.random.randn(len(C_range),len(gamma_range))\n",
    "test_accs=np.random.randn(len(C_range),len(gamma_range))\n",
    "test_preds=[]\n",
    "k=0;\n",
    "\n",
    "for i in range(len(C_range)):\n",
    "    for j in range(len(gamma_range)):\n",
    "        #train_accs[i,j]=predict_eval(fitted_clfs[k], traininputs, traintargets, training=True)[1]\n",
    "        preds, test_accs[i,j]=predict_eval(fitted_clfs[k], testinputs, testtargets)\n",
    "        test_preds.append(preds)\n",
    "        k+=1"
   ]
  },
  {
   "cell_type": "code",
   "execution_count": 22,
   "metadata": {},
   "outputs": [],
   "source": [
    "idx=['C = 1','C = 10']\n",
    "cols=['gamma = .01','gamma = .1']\n",
    "\n",
    "trainacc_df=pd.DataFrame(data=train_accs, index=idx, columns=cols)\n",
    "testacc_df=pd.DataFrame(data=test_accs, index=idx, columns=cols)"
   ]
  },
  {
   "cell_type": "code",
   "execution_count": 23,
   "metadata": {},
   "outputs": [
    {
     "data": {
      "text/html": [
       "<style  type=\"text/css\" >\n",
       "    #T_5c683a54_ab1c_11e8_af6c_0a58ac1ffe32row0_col0 {\n",
       "            background-color:  #f7fcf0;\n",
       "        }    #T_5c683a54_ab1c_11e8_af6c_0a58ac1ffe32row0_col1 {\n",
       "            background-color:  #f7fcf0;\n",
       "        }    #T_5c683a54_ab1c_11e8_af6c_0a58ac1ffe32row1_col0 {\n",
       "            background-color:  #084081;\n",
       "        }    #T_5c683a54_ab1c_11e8_af6c_0a58ac1ffe32row1_col1 {\n",
       "            background-color:  #084081;\n",
       "        }</style>  \n",
       "<table id=\"T_5c683a54_ab1c_11e8_af6c_0a58ac1ffe32\" > \n",
       "<thead>    <tr> \n",
       "        <th class=\"blank level0\" ></th> \n",
       "        <th class=\"col_heading level0 col0\" >gamma = .01</th> \n",
       "        <th class=\"col_heading level0 col1\" >gamma = .1</th> \n",
       "    </tr></thead> \n",
       "<tbody>    <tr> \n",
       "        <th id=\"T_5c683a54_ab1c_11e8_af6c_0a58ac1ffe32level0_row0\" class=\"row_heading level0 row0\" >C = 1</th> \n",
       "        <td id=\"T_5c683a54_ab1c_11e8_af6c_0a58ac1ffe32row0_col0\" class=\"data row0 col0\" >3.7</td> \n",
       "        <td id=\"T_5c683a54_ab1c_11e8_af6c_0a58ac1ffe32row0_col1\" class=\"data row0 col1\" >18.994</td> \n",
       "    </tr>    <tr> \n",
       "        <th id=\"T_5c683a54_ab1c_11e8_af6c_0a58ac1ffe32level0_row1\" class=\"row_heading level0 row1\" >C = 10</th> \n",
       "        <td id=\"T_5c683a54_ab1c_11e8_af6c_0a58ac1ffe32row1_col0\" class=\"data row1 col0\" >12.824</td> \n",
       "        <td id=\"T_5c683a54_ab1c_11e8_af6c_0a58ac1ffe32row1_col1\" class=\"data row1 col1\" >92.246</td> \n",
       "    </tr></tbody> \n",
       "</table> "
      ],
      "text/plain": [
       "<pandas.io.formats.style.Styler at 0x7faf945adb38>"
      ]
     },
     "execution_count": 23,
     "metadata": {},
     "output_type": "execute_result"
    }
   ],
   "source": [
    "#training accuracy for C/gamma grid\n",
    "trainacc_df.style.background_gradient(cmap='GnBu')"
   ]
  },
  {
   "cell_type": "code",
   "execution_count": 24,
   "metadata": {},
   "outputs": [
    {
     "data": {
      "text/html": [
       "<style  type=\"text/css\" >\n",
       "    #T_5c80887a_ab1c_11e8_af6c_0a58ac1ffe32row0_col0 {\n",
       "            background-color:  #f7fcf0;\n",
       "        }    #T_5c80887a_ab1c_11e8_af6c_0a58ac1ffe32row0_col1 {\n",
       "            background-color:  #084081;\n",
       "        }    #T_5c80887a_ab1c_11e8_af6c_0a58ac1ffe32row1_col0 {\n",
       "            background-color:  #084081;\n",
       "        }    #T_5c80887a_ab1c_11e8_af6c_0a58ac1ffe32row1_col1 {\n",
       "            background-color:  #f7fcf0;\n",
       "        }</style>  \n",
       "<table id=\"T_5c80887a_ab1c_11e8_af6c_0a58ac1ffe32\" > \n",
       "<thead>    <tr> \n",
       "        <th class=\"blank level0\" ></th> \n",
       "        <th class=\"col_heading level0 col0\" >gamma = .01</th> \n",
       "        <th class=\"col_heading level0 col1\" >gamma = .1</th> \n",
       "    </tr></thead> \n",
       "<tbody>    <tr> \n",
       "        <th id=\"T_5c80887a_ab1c_11e8_af6c_0a58ac1ffe32level0_row0\" class=\"row_heading level0 row0\" >C = 1</th> \n",
       "        <td id=\"T_5c80887a_ab1c_11e8_af6c_0a58ac1ffe32row0_col0\" class=\"data row0 col0\" >0.6</td> \n",
       "        <td id=\"T_5c80887a_ab1c_11e8_af6c_0a58ac1ffe32row0_col1\" class=\"data row0 col1\" >1.02</td> \n",
       "    </tr>    <tr> \n",
       "        <th id=\"T_5c80887a_ab1c_11e8_af6c_0a58ac1ffe32level0_row1\" class=\"row_heading level0 row1\" >C = 10</th> \n",
       "        <td id=\"T_5c80887a_ab1c_11e8_af6c_0a58ac1ffe32row1_col0\" class=\"data row1 col0\" >0.88</td> \n",
       "        <td id=\"T_5c80887a_ab1c_11e8_af6c_0a58ac1ffe32row1_col1\" class=\"data row1 col1\" >0.92</td> \n",
       "    </tr></tbody> \n",
       "</table> "
      ],
      "text/plain": [
       "<pandas.io.formats.style.Styler at 0x7faf945ad940>"
      ]
     },
     "execution_count": 24,
     "metadata": {},
     "output_type": "execute_result"
    }
   ],
   "source": [
    "#test accuracy for C/gamma grid\n",
    "testacc_df.style.background_gradient(cmap='GnBu')"
   ]
  },
  {
   "cell_type": "markdown",
   "metadata": {},
   "source": [
    "# Save Models"
   ]
  },
  {
   "cell_type": "code",
   "execution_count": 25,
   "metadata": {},
   "outputs": [],
   "source": [
    "maxacc, gen=maxacc_gen(test_accs, train_accs, clfs)"
   ]
  },
  {
   "cell_type": "code",
   "execution_count": 29,
   "metadata": {},
   "outputs": [],
   "source": [
    "fn_max_acc = 'SVMTinyImageNet_maxacc_proba.pkl'\n",
    "fn_gen = 'SVMTinyImageNet_gen_proba.pkl'"
   ]
  },
  {
   "cell_type": "code",
   "execution_count": 30,
   "metadata": {},
   "outputs": [],
   "source": [
    "save_proba(fn_max_acc, maxacc, ftraininputs, ftraintargets)\n",
    "save_proba(fn_gen, gen, ftraininputs, ftraintargets)"
   ]
  }
 ],
 "metadata": {
  "kernelspec": {
   "display_name": "Python 3",
   "language": "python",
   "name": "python3"
  },
  "language_info": {
   "codemirror_mode": {
    "name": "ipython",
    "version": 3
   },
   "file_extension": ".py",
   "mimetype": "text/x-python",
   "name": "python",
   "nbconvert_exporter": "python",
   "pygments_lexer": "ipython3",
   "version": "3.6.5"
  }
 },
 "nbformat": 4,
 "nbformat_minor": 2
}
