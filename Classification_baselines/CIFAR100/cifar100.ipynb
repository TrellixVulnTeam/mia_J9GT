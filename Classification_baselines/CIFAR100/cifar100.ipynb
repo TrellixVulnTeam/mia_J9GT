{
 "cells": [
  {
   "cell_type": "markdown",
   "metadata": {},
   "source": [
    "# CIFAR100 Classification Baselines"
   ]
  },
  {
   "cell_type": "markdown",
   "metadata": {},
   "source": [
    "## Imports"
   ]
  },
  {
   "cell_type": "code",
   "execution_count": null,
   "metadata": {},
   "outputs": [],
   "source": [
    "import sys \n",
    "import numpy as np \n",
    "import matplotlib.pyplot as plt\n",
    "\n",
    "\n",
    "import torch\n",
    "import torchvision \n",
    "import torch.optim as optim\n",
    "import torch.nn as nn\n",
    "\n",
    "sys.path.insert(0, '../../Utils')\n",
    "\n",
    "import models\n",
    "from train import *\n",
    "from metrics import *  \n",
    "\n",
    "print(\"Python: %s\" % sys.version)\n",
    "print(\"Pytorch: %s\" % torch.__version__)\n",
    "\n",
    "# determine device to run network on (runs on gpu if available)\n",
    "device = torch.device(\"cuda:0\" if torch.cuda.is_available() else \"cpu\")"
   ]
  },
  {
   "cell_type": "markdown",
   "metadata": {},
   "source": [
    "## Hyperparameters"
   ]
  },
  {
   "cell_type": "code",
   "execution_count": null,
   "metadata": {},
   "outputs": [],
   "source": [
    "n_epochs = 30\n",
    "batch_size = 128\n",
    "lr = 0.0001\n",
    "criterion = nn.CrossEntropyLoss()"
   ]
  },
  {
   "cell_type": "markdown",
   "metadata": {},
   "source": [
    "## Load CIFAR100"
   ]
  },
  {
   "cell_type": "code",
   "execution_count": null,
   "metadata": {},
   "outputs": [],
   "source": [
    "# define series of transforms to pre process images \n",
    "transform = torchvision.transforms.Compose([\n",
    "    torchvision.transforms.Pad(2),\n",
    "    torchvision.transforms.ToTensor(),\n",
    "    #torchvision.transforms.Normalize((0.5, 0.5, 0.5), (0.5, 0.5, 0.5))\n",
    "    torchvision.transforms.Normalize((0.4914, 0.4822, 0.4465), (0.2023, 0.1994, 0.2010))\n",
    "])\n",
    "\n",
    "n_classes = 100\n",
    "\n",
    "classes = None\n",
    "\n",
    "\n",
    "# load training set \n",
    "trainset = torchvision.datasets.CIFAR100('../../Datasets/', train=True, transform=transform, download=True)\n",
    "trainloader = torch.utils.data.DataLoader(trainset, batch_size=batch_size, shuffle=True, num_workers=2)\n",
    "\n",
    "# load test set \n",
    "testset = torchvision.datasets.CIFAR100('../../Datasets/', train=False, transform=transform, download=True)\n",
    "testloader = torch.utils.data.DataLoader(testset, batch_size=32, shuffle=False, num_workers=2)\n",
    "\n",
    "# helper function to unnormalize and plot image \n",
    "def imshow(img):\n",
    "    img = np.array(img)\n",
    "    img = img / 2 + 0.5\n",
    "    img = np.moveaxis(img, 0, -1)\n",
    "    plt.imshow(img)\n",
    "    \n",
    "# display sample from dataset \n",
    "imgs,labels = iter(trainloader).next()\n",
    "imshow(torchvision.utils.make_grid(imgs))  "
   ]
  },
  {
   "cell_type": "markdown",
   "metadata": {},
   "source": [
    "## Train CNN"
   ]
  },
  {
   "cell_type": "code",
   "execution_count": null,
   "metadata": {
    "scrolled": true
   },
   "outputs": [],
   "source": [
    "conv_net = models.tiny_cnn(n_in=3, n_out=n_classes, n_hidden=32, size=36).to(device)\n",
    "\n",
    "conv_net.apply(models.weights_init)\n",
    "\n",
    "conv_optim = optim.Adam(conv_net.parameters(), lr=lr)\n",
    "\n",
    "train(conv_net, trainloader, testloader, conv_optim, criterion, n_epochs, verbose=False)\n",
    "\n",
    "print(\"\\nPerformance on training set: \")\n",
    "train_accuracy = eval_target_net(conv_net, trainloader, classes=None)\n",
    "\n",
    "print(\"\\nPerformance on test set: \")\n",
    "test_accuracy = eval_target_net(conv_net, testloader, classes=None)"
   ]
  },
  {
   "cell_type": "markdown",
   "metadata": {},
   "source": [
    "## Train Resnet18"
   ]
  },
  {
   "cell_type": "code",
   "execution_count": null,
   "metadata": {
    "scrolled": true
   },
   "outputs": [],
   "source": [
    "# load the torchvision resnet18 implementation \n",
    "resnet18 = torchvision.models.resnet18(num_classes=100).to(device)\n",
    "# resnet fix for cifar10 image size \n",
    "resnet18.avgpool = nn.AvgPool2d(2, stride=1)\n",
    "\n",
    "resnet18.apply(models.weights_init)\n",
    "\n",
    "resnet18_optim = optim.Adam(resnet18.parameters(), lr=lr)\n",
    "\n",
    "train(resnet18, trainloader, testloader, resnet18_optim, criterion, n_epochs, classes=classes, verbose=False)\n",
    "\n",
    "print(\"\\nPerformance on training set: \")\n",
    "train_accuracy = eval_target_net(resnet18, trainloader, classes=None)\n",
    "\n",
    "print(\"\\nPerformance on test set: \")\n",
    "test_accuracy = eval_target_net(resnet18, testloader, classes=None)\n"
   ]
  },
  {
   "cell_type": "markdown",
   "metadata": {},
   "source": [
    "## Train VGG 16"
   ]
  },
  {
   "cell_type": "code",
   "execution_count": null,
   "metadata": {
    "scrolled": true
   },
   "outputs": [],
   "source": [
    "vgg16 = torchvision.models.vgg16(num_classes=100)\n",
    "# vgg16 fix for cifar10 image size \n",
    "vgg16.classifier = nn.Sequential(\n",
    "            nn.Linear(512, 64),\n",
    "            nn.ReLU(True),\n",
    "            nn.Dropout(),\n",
    "            nn.Linear(64, 64),\n",
    "            nn.ReLU(True),\n",
    "            nn.Dropout(),\n",
    "            nn.Linear(64, 100),\n",
    "        )\n",
    "\n",
    "\n",
    "vgg16.apply(models.weights_init)\n",
    "\n",
    "vgg16_optim = optim.Adam(vgg16.parameters(), lr=lr/10)\n",
    "\n",
    "vgg16 = vgg16.to(device)\n",
    "train(vgg16, trainloader, testloader, vgg16_optim, criterion, n_epochs, classes=classes, verbose=False)\n",
    "\n",
    "print(\"\\nPerformance on training set: \")\n",
    "train_accuracy = eval_target_net(vgg16, trainloader, classes=None)\n",
    "\n",
    "print(\"\\nPerformance on test set: \")\n",
    "test_accuracy = eval_target_net(vgg16, testloader, classes=None)"
   ]
  },
  {
   "cell_type": "markdown",
   "metadata": {},
   "source": [
    "## Train AlexNet"
   ]
  },
  {
   "cell_type": "code",
   "execution_count": null,
   "metadata": {},
   "outputs": [],
   "source": [
    "alexnet = models.AlexNet(n_classes=100).to(device)\n",
    "\n",
    "alexnet.apply(models.weights_init)\n",
    "\n",
    "alexnet_optim = optim.Adam(alexnet.parameters(), lr=lr)\n",
    "\n",
    "train(alexnet, trainloader, testloader, alexnet_optim, criterion, n_epochs, classes=classes, verbose=False)\n",
    "\n",
    "print(\"\\nPerformance on training set: \")\n",
    "train_accuracy = eval_target_net(alexnet, trainloader, classes=None)\n",
    "\n",
    "print(\"\\nPerformance on test set: \")\n",
    "test_accuracy = eval_target_net(alexnet, testloader, classes=None)"
   ]
  },
  {
   "cell_type": "markdown",
   "metadata": {},
   "source": [
    "## Other"
   ]
  },
  {
   "cell_type": "code",
   "execution_count": null,
   "metadata": {
    "scrolled": true
   },
   "outputs": [],
   "source": [
    "#squeezenet = torchvision.models.squeezenet1_0()\n",
    "#densenet = torchvision.models.densenet161()\n",
    "#inception = torchvision.models.inception_v3(num_classes=10)\n"
   ]
  },
  {
   "cell_type": "markdown",
   "metadata": {},
   "source": [
    "## Results"
   ]
  },
  {
   "cell_type": "markdown",
   "metadata": {},
   "source": [
    "CNN\n",
    "\n",
    "Performance on training set: Accuracy = 71.09 % \n",
    "\n",
    "Performance on test set: Accuracy = 39.39 %\n",
    "\n",
    "\n",
    "Resnet18\n",
    "\n",
    "Performance on training set: Accuracy = 99.31 %\n",
    "\n",
    "Performance on test set: Accuracy = 31.80 %\n",
    "\n",
    "\n",
    "\n",
    "VGG16\n",
    "\n",
    "Performance on training set: Accuracy = 27.63 %\n",
    "\n",
    "Performance on test set: Accuracy = 13.85 %\n",
    "\n",
    "\n",
    "AlexNet\n",
    "\n",
    "Performance on training set: Accuracy = 81.54 %\n",
    "\n",
    "Performance on test set: Accuracy = 37.67 %"
   ]
  },
  {
   "cell_type": "code",
   "execution_count": null,
   "metadata": {},
   "outputs": [],
   "source": []
  }
 ],
 "metadata": {
  "kernelspec": {
   "display_name": "Python 3",
   "language": "python",
   "name": "python3"
  },
  "language_info": {
   "codemirror_mode": {
    "name": "ipython",
    "version": 3
   },
   "file_extension": ".py",
   "mimetype": "text/x-python",
   "name": "python",
   "nbconvert_exporter": "python",
   "pygments_lexer": "ipython3",
   "version": "3.6.5"
  }
 },
 "nbformat": 4,
 "nbformat_minor": 2
}
